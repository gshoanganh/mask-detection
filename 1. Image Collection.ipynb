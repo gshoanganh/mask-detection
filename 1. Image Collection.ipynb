{
 "cells": [
  {
   "cell_type": "markdown",
   "metadata": {},
   "source": [
    "# 1. 導入依賴項。 (Import Dependencies)"
   ]
  },
  {
   "cell_type": "code",
   "execution_count": 1,
   "metadata": {},
   "outputs": [
    {
     "name": "stdout",
     "output_type": "stream",
     "text": [
      "Collecting opencv-python\n",
      "  Using cached opencv_python-4.5.5.64-cp36-abi3-macosx_10_15_x86_64.whl (46.3 MB)\n",
      "Collecting numpy>=1.14.5\n",
      "  Using cached numpy-1.22.3-cp38-cp38-macosx_10_14_x86_64.whl (17.6 MB)\n",
      "Installing collected packages: numpy, opencv-python\n",
      "Successfully installed numpy-1.22.3 opencv-python-4.5.5.64\n"
     ]
    }
   ],
   "source": [
    "!pip install opencv-python"
   ]
  },
  {
   "cell_type": "code",
   "execution_count": 2,
   "metadata": {},
   "outputs": [],
   "source": [
    "# Import opencv\n",
    "import cv2 \n",
    "\n",
    "# Import uuid\n",
    "import uuid\n",
    "\n",
    "# Import Operating System\n",
    "import os\n",
    "\n",
    "# Import time\n",
    "import time"
   ]
  },
  {
   "cell_type": "markdown",
   "metadata": {},
   "source": [
    "# 2. 定義要收集的圖像。 (Define Images to Collect)"
   ]
  },
  {
   "cell_type": "code",
   "execution_count": 3,
   "metadata": {},
   "outputs": [],
   "source": [
    "labels = ['MaskWhite', 'MaskBlue', 'NoMask']\n",
    "number_imgs = 6"
   ]
  },
  {
   "cell_type": "code",
   "execution_count": 4,
   "metadata": {},
   "outputs": [
    {
     "data": {
      "text/plain": [
       "['MaskWhite', 'MaskBlue', 'NoMask']"
      ]
     },
     "execution_count": 4,
     "metadata": {},
     "output_type": "execute_result"
    }
   ],
   "source": [
    "labels"
   ]
  },
  {
   "cell_type": "markdown",
   "metadata": {},
   "source": [
    "# 3. 設置文件夾。 (Setup Folders)"
   ]
  },
  {
   "cell_type": "code",
   "execution_count": 5,
   "metadata": {},
   "outputs": [],
   "source": [
    "IMAGES_PATH = os.path.join('Tensorflow', 'workspace', 'images', 'collectedimages')"
   ]
  },
  {
   "cell_type": "code",
   "execution_count": 6,
   "metadata": {},
   "outputs": [],
   "source": [
    "if not os.path.exists(IMAGES_PATH):\n",
    "    if os.name == 'posix':\n",
    "        !mkdir -p {IMAGES_PATH}\n",
    "    if os.name == 'nt':\n",
    "         !mkdir {IMAGES_PATH}\n",
    "for label in labels:\n",
    "    path = os.path.join(IMAGES_PATH, label)\n",
    "    if not os.path.exists(path):\n",
    "        !mkdir {path}"
   ]
  },
  {
   "cell_type": "markdown",
   "metadata": {},
   "source": [
    "# 4. 捕獲圖像。 (Capture Images)"
   ]
  },
  {
   "cell_type": "code",
   "execution_count": 10,
   "metadata": {},
   "outputs": [
    {
     "name": "stdout",
     "output_type": "stream",
     "text": [
      "Collecting images for MaskWhite\n",
      "Collecting image 0\n",
      "Collecting image 1\n",
      "Collecting image 2\n",
      "Collecting image 3\n",
      "Collecting image 4\n",
      "Collecting image 5\n",
      "Collecting images for MaskBlue\n",
      "Collecting image 0\n",
      "Collecting image 1\n",
      "Collecting image 2\n",
      "Collecting image 3\n",
      "Collecting image 4\n",
      "Collecting image 5\n",
      "Collecting images for NoMask\n",
      "Collecting image 0\n",
      "Collecting image 1\n",
      "Collecting image 2\n",
      "Collecting image 3\n",
      "Collecting image 4\n",
      "Collecting image 5\n"
     ]
    }
   ],
   "source": [
    "for label in labels:\n",
    "    cap = cv2.VideoCapture(0)\n",
    "    print('Collecting images for {}'.format(label))\n",
    "    time.sleep(5)\n",
    "    for imgnum in range(number_imgs):\n",
    "        print('Collecting image {}'.format(imgnum))\n",
    "        ret, frame = cap.read()\n",
    "        imgname = os.path.join(IMAGES_PATH,label,label+'.'+'{}.jpg'.format(str(uuid.uuid1())))\n",
    "        cv2.imwrite(imgname, frame)\n",
    "        cv2.imshow('frame', frame)\n",
    "        time.sleep(2)\n",
    "\n",
    "        if cv2.waitKey(1) & 0xFF == ord('q'):\n",
    "            break\n",
    "cap.release()\n",
    "cv2.destroyAllWindows()"
   ]
  },
  {
   "cell_type": "markdown",
   "metadata": {},
   "source": [
    "# 5. 圖像標籤。 (Image Labelling)"
   ]
  },
  {
   "cell_type": "code",
   "execution_count": 11,
   "metadata": {},
   "outputs": [
    {
     "name": "stdout",
     "output_type": "stream",
     "text": [
      "Collecting pyqt5\n",
      "  Using cached PyQt5-5.15.6-cp36-abi3-macosx_10_13_x86_64.whl (7.0 MB)\n",
      "Collecting lxml\n",
      "  Using cached lxml-4.8.0-cp38-cp38-macosx_10_14_x86_64.whl (4.5 MB)\n",
      "Collecting PyQt5-sip<13,>=12.8\n",
      "  Using cached PyQt5_sip-12.9.1-cp38-cp38-macosx_10_9_x86_64.whl (83 kB)\n",
      "Collecting PyQt5-Qt5>=5.15.2\n",
      "  Using cached PyQt5_Qt5-5.15.2-py3-none-macosx_10_13_intel.whl (40.5 MB)\n",
      "Installing collected packages: PyQt5-Qt5, PyQt5-sip, lxml, pyqt5\n",
      "Successfully installed PyQt5-Qt5-5.15.2 PyQt5-sip-12.9.1 lxml-4.8.0 pyqt5-5.15.6\n"
     ]
    }
   ],
   "source": [
    "!pip install --upgrade pyqt5 lxml"
   ]
  },
  {
   "cell_type": "code",
   "execution_count": 20,
   "metadata": {},
   "outputs": [],
   "source": [
    "LABELIMG_PATH = os.path.join('Tensorflow', 'labelimg')"
   ]
  },
  {
   "cell_type": "code",
   "execution_count": 27,
   "metadata": {},
   "outputs": [
    {
     "name": "stdout",
     "output_type": "stream",
     "text": [
      "Cloning into 'Tensorflow/labelimg'...\n",
      "remote: Enumerating objects: 1978, done.\u001b[K\n",
      "remote: Counting objects: 100% (1/1), done.\u001b[K\n",
      "remote: Total 1978 (delta 0), reused 0 (delta 0), pack-reused 1977\u001b[K\n",
      "Receiving objects: 100% (1978/1978), 232.83 MiB | 180.00 KiB/s, done.\n",
      "Resolving deltas: 100% (1179/1179), done.\n"
     ]
    }
   ],
   "source": [
    "if not os.path.exists(LABELIMG_PATH):\n",
    "    !mkdir {LABELIMG_PATH}\n",
    "    !git clone https://github.com/tzutalin/labelImg {LABELIMG_PATH}"
   ]
  },
  {
   "cell_type": "code",
   "execution_count": 28,
   "metadata": {},
   "outputs": [
    {
     "data": {
      "text/plain": [
       "'Tensorflow/labelimg'"
      ]
     },
     "execution_count": 28,
     "metadata": {},
     "output_type": "execute_result"
    }
   ],
   "source": [
    "LABELIMG_PATH"
   ]
  },
  {
   "cell_type": "code",
   "execution_count": 29,
   "metadata": {},
   "outputs": [],
   "source": [
    "if os.name == 'posix':\n",
    "    #!make qt5py3\n",
    "    !cd {LABELIMG_PATH} && pyrcc5 -o libs/resources.py resources.qrc\n",
    "if os.name =='nt':\n",
    "    !cd {LABELIMG_PATH} && pyrcc5 -o libs/resources.py resources.qrc"
   ]
  },
  {
   "cell_type": "code",
   "execution_count": 30,
   "metadata": {
    "scrolled": true
   },
   "outputs": [
    {
     "name": "stdout",
     "output_type": "stream",
     "text": [
      "Image:/Users/admin/tensorflow/checkface/Tensorflow/workspace/images/collectedimages/MaskBlue/MaskBlue.cd7e76fc-af11-11ec-b512-48bf6be79752.jpg -> Annotation:/Users/admin/tensorflow/checkface/Tensorflow/workspace/images/collectedimages/MaskBlue/MaskBlue.cd7e76fc-af11-11ec-b512-48bf6be79752.xml\n",
      "Image:/Users/admin/tensorflow/checkface/Tensorflow/workspace/images/collectedimages/MaskBlue/MaskBlue.ceb9910a-af11-11ec-b512-48bf6be79752.jpg -> Annotation:/Users/admin/tensorflow/checkface/Tensorflow/workspace/images/collectedimages/MaskBlue/MaskBlue.ceb9910a-af11-11ec-b512-48bf6be79752.xml\n",
      "Image:/Users/admin/tensorflow/checkface/Tensorflow/workspace/images/collectedimages/MaskBlue/MaskBlue.cff3b83e-af11-11ec-b512-48bf6be79752.jpg -> Annotation:/Users/admin/tensorflow/checkface/Tensorflow/workspace/images/collectedimages/MaskBlue/MaskBlue.cff3b83e-af11-11ec-b512-48bf6be79752.xml\n",
      "Image:/Users/admin/tensorflow/checkface/Tensorflow/workspace/images/collectedimages/MaskBlue/MaskBlue.d3a792de-af11-11ec-b512-48bf6be79752.jpg -> Annotation:/Users/admin/tensorflow/checkface/Tensorflow/workspace/images/collectedimages/MaskBlue/MaskBlue.d3a792de-af11-11ec-b512-48bf6be79752.xml\n",
      "Image:/Users/admin/tensorflow/checkface/Tensorflow/workspace/images/collectedimages/MaskBlue/MaskBlue.d26bea82-af11-11ec-b512-48bf6be79752.jpg -> Annotation:/Users/admin/tensorflow/checkface/Tensorflow/workspace/images/collectedimages/MaskBlue/MaskBlue.d26bea82-af11-11ec-b512-48bf6be79752.xml\n",
      "Image:/Users/admin/tensorflow/checkface/Tensorflow/workspace/images/collectedimages/MaskBlue/MaskBlue.d1307cf0-af11-11ec-b512-48bf6be79752.jpg -> Annotation:/Users/admin/tensorflow/checkface/Tensorflow/workspace/images/collectedimages/MaskBlue/MaskBlue.d1307cf0-af11-11ec-b512-48bf6be79752.xml\n",
      "Image:/Users/admin/tensorflow/checkface/Tensorflow/workspace/images/collectedimages/MaskBlue/MaskWhite.c6bf322a-af11-11ec-b512-48bf6be79752.jpg -> Annotation:/Users/admin/tensorflow/checkface/Tensorflow/workspace/images/collectedimages/MaskBlue/MaskWhite.c6bf322a-af11-11ec-b512-48bf6be79752.xml\n",
      "Image:/Users/admin/tensorflow/checkface/Tensorflow/workspace/images/collectedimages/MaskBlue/MaskWhite.c7fa5cb4-af11-11ec-b512-48bf6be79752.jpg -> Annotation:/Users/admin/tensorflow/checkface/Tensorflow/workspace/images/collectedimages/MaskBlue/MaskWhite.c7fa5cb4-af11-11ec-b512-48bf6be79752.xml\n",
      "Image:/Users/admin/tensorflow/checkface/Tensorflow/workspace/images/collectedimages/MaskBlue/MaskWhite.c447d33a-af11-11ec-b512-48bf6be79752.jpg -> Annotation:/Users/admin/tensorflow/checkface/Tensorflow/workspace/images/collectedimages/MaskBlue/MaskWhite.c447d33a-af11-11ec-b512-48bf6be79752.xml\n",
      "Image:/Users/admin/tensorflow/checkface/Tensorflow/workspace/images/collectedimages/MaskBlue/MaskWhite.c583d1a4-af11-11ec-b512-48bf6be79752.jpg -> Annotation:/Users/admin/tensorflow/checkface/Tensorflow/workspace/images/collectedimages/MaskBlue/MaskWhite.c583d1a4-af11-11ec-b512-48bf6be79752.xml\n",
      "Image:/Users/admin/tensorflow/checkface/Tensorflow/workspace/images/collectedimages/MaskBlue/MaskWhite.c9369dcc-af11-11ec-b512-48bf6be79752.jpg -> Annotation:/Users/admin/tensorflow/checkface/Tensorflow/workspace/images/collectedimages/MaskBlue/MaskWhite.c9369dcc-af11-11ec-b512-48bf6be79752.xml\n",
      "Image:/Users/admin/tensorflow/checkface/Tensorflow/workspace/images/collectedimages/MaskBlue/MaskWhite.c3034040-af11-11ec-b512-48bf6be79752.jpg -> Annotation:/Users/admin/tensorflow/checkface/Tensorflow/workspace/images/collectedimages/MaskBlue/MaskWhite.c3034040-af11-11ec-b512-48bf6be79752.xml\n",
      "Image:/Users/admin/tensorflow/checkface/Tensorflow/workspace/images/collectedimages/NoMask/NoMask.ae93cc4c-af11-11ec-b512-48bf6be79752.jpg -> Annotation:/Users/admin/tensorflow/checkface/Tensorflow/workspace/images/collectedimages/NoMask/NoMask.ae93cc4c-af11-11ec-b512-48bf6be79752.xml\n",
      "Image:/Users/admin/tensorflow/checkface/Tensorflow/workspace/images/collectedimages/NoMask/NoMask.b4c3606e-af11-11ec-b512-48bf6be79752.jpg -> Annotation:/Users/admin/tensorflow/checkface/Tensorflow/workspace/images/collectedimages/NoMask/NoMask.b4c3606e-af11-11ec-b512-48bf6be79752.xml\n",
      "Image:/Users/admin/tensorflow/checkface/Tensorflow/workspace/images/collectedimages/NoMask/NoMask.b10c264a-af11-11ec-b512-48bf6be79752.jpg -> Annotation:/Users/admin/tensorflow/checkface/Tensorflow/workspace/images/collectedimages/NoMask/NoMask.b10c264a-af11-11ec-b512-48bf6be79752.xml\n",
      "Image:/Users/admin/tensorflow/checkface/Tensorflow/workspace/images/collectedimages/NoMask/NoMask.b24b48a6-af11-11ec-b512-48bf6be79752.jpg -> Annotation:/Users/admin/tensorflow/checkface/Tensorflow/workspace/images/collectedimages/NoMask/NoMask.b24b48a6-af11-11ec-b512-48bf6be79752.xml\n",
      "Image:/Users/admin/tensorflow/checkface/Tensorflow/workspace/images/collectedimages/NoMask/NoMask.b3873248-af11-11ec-b512-48bf6be79752.jpg -> Annotation:/Users/admin/tensorflow/checkface/Tensorflow/workspace/images/collectedimages/NoMask/NoMask.b3873248-af11-11ec-b512-48bf6be79752.xml\n",
      "Image:/Users/admin/tensorflow/checkface/Tensorflow/workspace/images/collectedimages/NoMask/NoMask.d7ef611e-af11-11ec-b512-48bf6be79752.jpg -> Annotation:/Users/admin/tensorflow/checkface/Tensorflow/workspace/images/collectedimages/NoMask/NoMask.d7ef611e-af11-11ec-b512-48bf6be79752.xml\n",
      "Image:/Users/admin/tensorflow/checkface/Tensorflow/workspace/images/collectedimages/NoMask/NoMask.d92e9f2c-af11-11ec-b512-48bf6be79752.jpg -> Annotation:/Users/admin/tensorflow/checkface/Tensorflow/workspace/images/collectedimages/NoMask/NoMask.d92e9f2c-af11-11ec-b512-48bf6be79752.xml\n",
      "Image:/Users/admin/tensorflow/checkface/Tensorflow/workspace/images/collectedimages/NoMask/NoMask.da6b151e-af11-11ec-b512-48bf6be79752.jpg -> Annotation:/Users/admin/tensorflow/checkface/Tensorflow/workspace/images/collectedimages/NoMask/NoMask.da6b151e-af11-11ec-b512-48bf6be79752.xml\n",
      "Image:/Users/admin/tensorflow/checkface/Tensorflow/workspace/images/collectedimages/NoMask/NoMask.dbaad6c6-af11-11ec-b512-48bf6be79752.jpg -> Annotation:/Users/admin/tensorflow/checkface/Tensorflow/workspace/images/collectedimages/NoMask/NoMask.dbaad6c6-af11-11ec-b512-48bf6be79752.xml\n",
      "Image:/Users/admin/tensorflow/checkface/Tensorflow/workspace/images/collectedimages/NoMask/NoMask.dce67996-af11-11ec-b512-48bf6be79752.jpg -> Annotation:/Users/admin/tensorflow/checkface/Tensorflow/workspace/images/collectedimages/NoMask/NoMask.dce67996-af11-11ec-b512-48bf6be79752.xml\n",
      "Image:/Users/admin/tensorflow/checkface/Tensorflow/workspace/images/collectedimages/NoMask/NoMask.de23884e-af11-11ec-b512-48bf6be79752.jpg -> Annotation:/Users/admin/tensorflow/checkface/Tensorflow/workspace/images/collectedimages/NoMask/NoMask.de23884e-af11-11ec-b512-48bf6be79752.xml\n",
      "Image:/Users/admin/tensorflow/checkface/Tensorflow/workspace/images/collectedimages/White/MaskBlue.7da76b02-af11-11ec-b512-48bf6be79752.jpg -> Annotation:/Users/admin/tensorflow/checkface/Tensorflow/workspace/images/collectedimages/White/MaskBlue.7da76b02-af11-11ec-b512-48bf6be79752.xml\n",
      "Image:/Users/admin/tensorflow/checkface/Tensorflow/workspace/images/collectedimages/White/MaskBlue.7ee39284-af11-11ec-b512-48bf6be79752.jpg -> Annotation:/Users/admin/tensorflow/checkface/Tensorflow/workspace/images/collectedimages/White/MaskBlue.7ee39284-af11-11ec-b512-48bf6be79752.xml\n",
      "Image:/Users/admin/tensorflow/checkface/Tensorflow/workspace/images/collectedimages/White/MaskBlue.83d28e30-af11-11ec-b512-48bf6be79752.jpg -> Annotation:/Users/admin/tensorflow/checkface/Tensorflow/workspace/images/collectedimages/White/MaskBlue.83d28e30-af11-11ec-b512-48bf6be79752.xml\n",
      "Image:/Users/admin/tensorflow/checkface/Tensorflow/workspace/images/collectedimages/White/MaskBlue.801f738e-af11-11ec-b512-48bf6be79752.jpg -> Annotation:/Users/admin/tensorflow/checkface/Tensorflow/workspace/images/collectedimages/White/MaskBlue.801f738e-af11-11ec-b512-48bf6be79752.xml\n",
      "Image:/Users/admin/tensorflow/checkface/Tensorflow/workspace/images/collectedimages/White/MaskBlue.815a3ebe-af11-11ec-b512-48bf6be79752.jpg -> Annotation:/Users/admin/tensorflow/checkface/Tensorflow/workspace/images/collectedimages/White/MaskBlue.815a3ebe-af11-11ec-b512-48bf6be79752.xml\n",
      "Image:/Users/admin/tensorflow/checkface/Tensorflow/workspace/images/collectedimages/White/MaskBlue.829629f0-af11-11ec-b512-48bf6be79752.jpg -> Annotation:/Users/admin/tensorflow/checkface/Tensorflow/workspace/images/collectedimages/White/MaskBlue.829629f0-af11-11ec-b512-48bf6be79752.xml\n"
     ]
    },
    {
     "name": "stdout",
     "output_type": "stream",
     "text": [
      "Image:/Users/admin/tensorflow/checkface/Tensorflow/workspace/images/collectedimages/White/MaskBlue.a7d0b64a-af11-11ec-b512-48bf6be79752.jpg -> Annotation:/Users/admin/tensorflow/checkface/Tensorflow/workspace/images/collectedimages/White/MaskBlue.a7d0b64a-af11-11ec-b512-48bf6be79752.xml\n",
      "Image:/Users/admin/tensorflow/checkface/Tensorflow/workspace/images/collectedimages/White/MaskBlue.a41e7578-af11-11ec-b512-48bf6be79752.jpg -> Annotation:/Users/admin/tensorflow/checkface/Tensorflow/workspace/images/collectedimages/White/MaskBlue.a41e7578-af11-11ec-b512-48bf6be79752.xml\n",
      "Image:/Users/admin/tensorflow/checkface/Tensorflow/workspace/images/collectedimages/White/MaskBlue.a55a6262-af11-11ec-b512-48bf6be79752.jpg -> Annotation:/Users/admin/tensorflow/checkface/Tensorflow/workspace/images/collectedimages/White/MaskBlue.a55a6262-af11-11ec-b512-48bf6be79752.xml\n",
      "Image:/Users/admin/tensorflow/checkface/Tensorflow/workspace/images/collectedimages/White/MaskBlue.a90c5a6e-af11-11ec-b512-48bf6be79752.jpg -> Annotation:/Users/admin/tensorflow/checkface/Tensorflow/workspace/images/collectedimages/White/MaskBlue.a90c5a6e-af11-11ec-b512-48bf6be79752.xml\n",
      "Image:/Users/admin/tensorflow/checkface/Tensorflow/workspace/images/collectedimages/White/MaskBlue.a6956e42-af11-11ec-b512-48bf6be79752.jpg -> Annotation:/Users/admin/tensorflow/checkface/Tensorflow/workspace/images/collectedimages/White/MaskBlue.a6956e42-af11-11ec-b512-48bf6be79752.xml\n",
      "Image:/Users/admin/tensorflow/checkface/Tensorflow/workspace/images/collectedimages/White/MaskBlue.aa482782-af11-11ec-b512-48bf6be79752.jpg -> Annotation:/Users/admin/tensorflow/checkface/Tensorflow/workspace/images/collectedimages/White/MaskBlue.aa482782-af11-11ec-b512-48bf6be79752.xml\n",
      "Image:/Users/admin/tensorflow/checkface/Tensorflow/workspace/images/collectedimages/White/MaskWhite.9ae90afe-af11-11ec-b512-48bf6be79752.jpg -> Annotation:/Users/admin/tensorflow/checkface/Tensorflow/workspace/images/collectedimages/White/MaskWhite.9ae90afe-af11-11ec-b512-48bf6be79752.xml\n",
      "Image:/Users/admin/tensorflow/checkface/Tensorflow/workspace/images/collectedimages/White/MaskWhite.9c24697c-af11-11ec-b512-48bf6be79752.jpg -> Annotation:/Users/admin/tensorflow/checkface/Tensorflow/workspace/images/collectedimages/White/MaskWhite.9c24697c-af11-11ec-b512-48bf6be79752.xml\n",
      "Image:/Users/admin/tensorflow/checkface/Tensorflow/workspace/images/collectedimages/White/MaskWhite.9d63f00a-af11-11ec-b512-48bf6be79752.jpg -> Annotation:/Users/admin/tensorflow/checkface/Tensorflow/workspace/images/collectedimages/White/MaskWhite.9d63f00a-af11-11ec-b512-48bf6be79752.xml\n",
      "Image:/Users/admin/tensorflow/checkface/Tensorflow/workspace/images/collectedimages/White/MaskWhite.9e9ffa68-af11-11ec-b512-48bf6be79752.jpg -> Annotation:/Users/admin/tensorflow/checkface/Tensorflow/workspace/images/collectedimages/White/MaskWhite.9e9ffa68-af11-11ec-b512-48bf6be79752.xml\n",
      "Image:/Users/admin/tensorflow/checkface/Tensorflow/workspace/images/collectedimages/White/MaskWhite.9fdc2b9a-af11-11ec-b512-48bf6be79752.jpg -> Annotation:/Users/admin/tensorflow/checkface/Tensorflow/workspace/images/collectedimages/White/MaskWhite.9fdc2b9a-af11-11ec-b512-48bf6be79752.xml\n",
      "Image:/Users/admin/tensorflow/checkface/Tensorflow/workspace/images/collectedimages/White/MaskWhite.76e5bc1a-af11-11ec-b512-48bf6be79752.jpg -> Annotation:/Users/admin/tensorflow/checkface/Tensorflow/workspace/images/collectedimages/White/MaskWhite.76e5bc1a-af11-11ec-b512-48bf6be79752.xml\n",
      "Image:/Users/admin/tensorflow/checkface/Tensorflow/workspace/images/collectedimages/White/MaskWhite.99a895e2-af11-11ec-b512-48bf6be79752.jpg -> Annotation:/Users/admin/tensorflow/checkface/Tensorflow/workspace/images/collectedimages/White/MaskWhite.99a895e2-af11-11ec-b512-48bf6be79752.xml\n",
      "Image:/Users/admin/tensorflow/checkface/Tensorflow/workspace/images/collectedimages/White/MaskWhite.745f0974-af11-11ec-b512-48bf6be79752.jpg -> Annotation:/Users/admin/tensorflow/checkface/Tensorflow/workspace/images/collectedimages/White/MaskWhite.745f0974-af11-11ec-b512-48bf6be79752.xml\n",
      "Image:/Users/admin/tensorflow/checkface/Tensorflow/workspace/images/collectedimages/White/MaskWhite.759eed36-af11-11ec-b512-48bf6be79752.jpg -> Annotation:/Users/admin/tensorflow/checkface/Tensorflow/workspace/images/collectedimages/White/MaskWhite.759eed36-af11-11ec-b512-48bf6be79752.xml\n",
      "Image:/Users/admin/tensorflow/checkface/Tensorflow/workspace/images/collectedimages/White/MaskWhite.7308f436-af11-11ec-b512-48bf6be79752.jpg -> Annotation:/Users/admin/tensorflow/checkface/Tensorflow/workspace/images/collectedimages/White/MaskWhite.7308f436-af11-11ec-b512-48bf6be79752.xml\n",
      "Image:/Users/admin/tensorflow/checkface/Tensorflow/workspace/images/collectedimages/White/MaskWhite.7824f212-af11-11ec-b512-48bf6be79752.jpg -> Annotation:/Users/admin/tensorflow/checkface/Tensorflow/workspace/images/collectedimages/White/MaskWhite.7824f212-af11-11ec-b512-48bf6be79752.xml\n",
      "Image:/Users/admin/tensorflow/checkface/Tensorflow/workspace/images/collectedimages/White/MaskWhite.796123c6-af11-11ec-b512-48bf6be79752.jpg -> Annotation:/Users/admin/tensorflow/checkface/Tensorflow/workspace/images/collectedimages/White/MaskWhite.796123c6-af11-11ec-b512-48bf6be79752.xml\n",
      "Image:/Users/admin/tensorflow/checkface/Tensorflow/workspace/images/collectedimages/White/NoMask.8a90b486-af11-11ec-b512-48bf6be79752.jpg -> Annotation:/Users/admin/tensorflow/checkface/Tensorflow/workspace/images/collectedimages/White/NoMask.8a90b486-af11-11ec-b512-48bf6be79752.xml\n",
      "Image:/Users/admin/tensorflow/checkface/Tensorflow/workspace/images/collectedimages/White/NoMask.8bcb81c8-af11-11ec-b512-48bf6be79752.jpg -> Annotation:/Users/admin/tensorflow/checkface/Tensorflow/workspace/images/collectedimages/White/NoMask.8bcb81c8-af11-11ec-b512-48bf6be79752.xml\n",
      "Image:/Users/admin/tensorflow/checkface/Tensorflow/workspace/images/collectedimages/White/NoMask.8d073fbe-af11-11ec-b512-48bf6be79752.jpg -> Annotation:/Users/admin/tensorflow/checkface/Tensorflow/workspace/images/collectedimages/White/NoMask.8d073fbe-af11-11ec-b512-48bf6be79752.xml\n",
      "Image:/Users/admin/tensorflow/checkface/Tensorflow/workspace/images/collectedimages/White/NoMask.8e42d802-af11-11ec-b512-48bf6be79752.jpg -> Annotation:/Users/admin/tensorflow/checkface/Tensorflow/workspace/images/collectedimages/White/NoMask.8e42d802-af11-11ec-b512-48bf6be79752.xml\n",
      "Image:/Users/admin/tensorflow/checkface/Tensorflow/workspace/images/collectedimages/White/NoMask.8954c0f8-af11-11ec-b512-48bf6be79752.jpg -> Annotation:/Users/admin/tensorflow/checkface/Tensorflow/workspace/images/collectedimages/White/NoMask.8954c0f8-af11-11ec-b512-48bf6be79752.xml\n",
      "Image:/Users/admin/tensorflow/checkface/Tensorflow/workspace/images/collectedimages/White/NoMask.88183c92-af11-11ec-b512-48bf6be79752.jpg -> Annotation:/Users/admin/tensorflow/checkface/Tensorflow/workspace/images/collectedimages/White/NoMask.88183c92-af11-11ec-b512-48bf6be79752.xml\n"
     ]
    }
   ],
   "source": [
    "!cd {LABELIMG_PATH} && python labelImg.py"
   ]
  },
  {
   "cell_type": "markdown",
   "metadata": {},
   "source": [
    "# 6. 將它們移動到訓練和測試分區中。 \n",
    "\n",
    "Move them into a Training and Testing Partition"
   ]
  },
  {
   "cell_type": "markdown",
   "metadata": {},
   "source": [
    "# OPTIONAL - 7. Compress them for Colab Training"
   ]
  },
  {
   "cell_type": "code",
   "execution_count": 31,
   "metadata": {},
   "outputs": [],
   "source": [
    "TRAIN_PATH = os.path.join('Tensorflow', 'workspace', 'images', 'train')\n",
    "TEST_PATH = os.path.join('Tensorflow', 'workspace', 'images', 'test')\n",
    "ARCHIVE_PATH = os.path.join('Tensorflow', 'workspace', 'images', 'archive.tar.gz')"
   ]
  },
  {
   "cell_type": "code",
   "execution_count": 33,
   "metadata": {},
   "outputs": [],
   "source": [
    "!tar -czf {ARCHIVE_PATH} {TRAIN_PATH} {TEST_PATH}"
   ]
  },
  {
   "cell_type": "code",
   "execution_count": null,
   "metadata": {},
   "outputs": [],
   "source": []
  }
 ],
 "metadata": {
  "kernelspec": {
   "display_name": "tfod",
   "language": "python",
   "name": "tfod"
  },
  "language_info": {
   "codemirror_mode": {
    "name": "ipython",
    "version": 3
   },
   "file_extension": ".py",
   "mimetype": "text/x-python",
   "name": "python",
   "nbconvert_exporter": "python",
   "pygments_lexer": "ipython3",
   "version": "3.8.7"
  }
 },
 "nbformat": 4,
 "nbformat_minor": 2
}
